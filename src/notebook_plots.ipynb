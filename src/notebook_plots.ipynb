{
 "cells": [
  {
   "cell_type": "code",
   "execution_count": 9,
   "outputs": [],
   "source": [
    "import logging, os\n",
    "\n",
    "import matplotlib.pyplot as plt\n",
    "\n",
    "logging.disable(logging.WARNING)\n",
    "os.environ[\"TF_CPP_MIN_LOG_LEVEL\"] = \"1\"\n",
    "import tensorflow as tf\n",
    "from tensorflow import feature_column\n",
    "from tensorflow.keras import layers, optimizers\n",
    "from sklearn.model_selection import train_test_split\n",
    "from datasets import data_all as dataframe\n",
    "from helpers import df_to_dataset\n",
    "\n",
    "import pandas as pd\n",
    "from sklearn.tree import DecisionTreeClassifier\n",
    "from sklearn.ensemble import RandomForestClassifier\n",
    "from sklearn.metrics import accuracy_score\n",
    "from sklearn.metrics import confusion_matrix\n",
    "from sklearn.tree import plot_tree"
   ],
   "metadata": {
    "collapsed": false,
    "pycharm": {
     "name": "#%%\n"
    }
   }
  },
  {
   "cell_type": "code",
   "execution_count": 10,
   "outputs": [],
   "source": [
    "# set some pandas option to use the whole terminal width to display results\n",
    "pd.options.display.max_columns = 10\n",
    "pd.set_option('display.width', 200)\n",
    "\n",
    "dataframe = dataframe.drop(columns=['Date', 'SumBikerNumber',\n",
    "                                    'SumBikerNumber', 'SumCars', 'SumPedestrianNumber'])\n",
    "# Shorten feature names just for convenient output format\n",
    "new_cols = {\"AccidentSeverityCategory\": \"Severity\", \"AccidentType\": \"AccType\", \"AvgTemperature\": \"Temperature\",\n",
    "            \"AvgRainDur\": \"RainDur\",\n",
    "            \"AccidentInvolvingPedestrian\": \"Pedestrian\", \"AccidentInvolvingBicycle\": \"Bicycle\",\n",
    "            \"AccidentInvolvingMotorcycle\": \"Motorcycle\", \"AccidentLocation_CHLV95_E\": \"LocationE\",\n",
    "            \"AccidentLocation_CHLV95_N\": \"LocationN\"}\n",
    "dataframe.rename(columns=new_cols, inplace=True)\n",
    "dataframe.loc[dataframe['RoadType'] == 9, 'RoadType'] = 5"
   ],
   "metadata": {
    "collapsed": false,
    "pycharm": {
     "name": "#%%\n"
    }
   }
  },
  {
   "cell_type": "code",
   "execution_count": 13,
   "outputs": [],
   "source": [
    "# all features: ['AccType', 'Severity', 'Pedestrian', 'Bicycle', 'Motorcycle', 'RoadType','LocationE', 'LocationN', 'Temperature', 'RainDur']\n",
    "df = dataframe[['AccType', 'Severity', 'Pedestrian', 'Bicycle', 'Motorcycle', 'RoadType', 'Temperature', 'RainDur']]\n",
    "X = df.drop(columns='RoadType')\n",
    "y = df['RoadType']\n",
    "\n",
    "X_train, X_test, y_train, y_test = train_test_split(X, y, random_state=1)\n",
    "\n",
    "dtc = DecisionTreeClassifier()\n",
    "dtc.fit(X_train, y_train)\n",
    "\n",
    "dtc_y_predict = dtc.predict(X_test)\n",
    "accuracy_score(y_test, dtc_y_predict)\n",
    "\n",
    "confusion = pd.DataFrame(\n",
    "    confusion_matrix(y_test, dtc_y_predict),\n",
    "    columns=['Predicted Motorway', 'Predicted Expressway', 'Predicted Principal road','Predicted Minor road',\n",
    "             'Predicted Motorway side installation', 'Predicted Other'],\n",
    "    index=['True Motorway', 'True Expressway', 'True Principal road', 'True Minor road',\n",
    "           'True Motorway side installation', 'True Other']\n",
    ")"
   ],
   "metadata": {
    "collapsed": false,
    "pycharm": {
     "name": "#%%\n"
    }
   }
  },
  {
   "cell_type": "code",
   "execution_count": 14,
   "metadata": {
    "collapsed": true
   },
   "outputs": [
    {
     "name": "stdout",
     "output_type": "stream",
     "text": [
      "                                 Predicted Motorway  Predicted Expressway  Predicted Principal road  Predicted Minor road  Predicted Motorway side installation  Predicted Other\n",
      "True Motorway                                    58                     1                       234                   346                                     0                5\n",
      "True Expressway                                   6                     0                        23                    19                                     0                0\n",
      "True Principal road                             138                     6                       941                  1730                                     1               27\n",
      "True Minor road                                 202                    20                      1558                  5758                                     1              115\n",
      "True Motorway side installation                   0                     0                         0                     4                                     0                0\n",
      "True Other                                        6                     0                        37                   512                                     0               19\n"
     ]
    },
    {
     "data": {
      "text/plain": "             importance\nTemperature    0.529859\nRainDur        0.221966\nAccType        0.175218\nSeverity       0.032610\nMotorcycle     0.018968\nBicycle        0.016089\nPedestrian     0.005290",
      "text/html": "<div>\n<style scoped>\n    .dataframe tbody tr th:only-of-type {\n        vertical-align: middle;\n    }\n\n    .dataframe tbody tr th {\n        vertical-align: top;\n    }\n\n    .dataframe thead th {\n        text-align: right;\n    }\n</style>\n<table border=\"1\" class=\"dataframe\">\n  <thead>\n    <tr style=\"text-align: right;\">\n      <th></th>\n      <th>importance</th>\n    </tr>\n  </thead>\n  <tbody>\n    <tr>\n      <th>Temperature</th>\n      <td>0.529859</td>\n    </tr>\n    <tr>\n      <th>RainDur</th>\n      <td>0.221966</td>\n    </tr>\n    <tr>\n      <th>AccType</th>\n      <td>0.175218</td>\n    </tr>\n    <tr>\n      <th>Severity</th>\n      <td>0.032610</td>\n    </tr>\n    <tr>\n      <th>Motorcycle</th>\n      <td>0.018968</td>\n    </tr>\n    <tr>\n      <th>Bicycle</th>\n      <td>0.016089</td>\n    </tr>\n    <tr>\n      <th>Pedestrian</th>\n      <td>0.005290</td>\n    </tr>\n  </tbody>\n</table>\n</div>"
     },
     "execution_count": 14,
     "metadata": {},
     "output_type": "execute_result"
    }
   ],
   "source": [
    "print(confusion)\n",
    "\n",
    "fi_dtc = pd.DataFrame(dtc.feature_importances_,\n",
    "                      index=list(X.columns),\n",
    "                      columns=['importance'])\n",
    "fi_dtc_sorted = fi_dtc.sort_values('importance', ascending=False)\n",
    "fi_dtc_sorted\n"
   ]
  }
 ],
 "metadata": {
  "kernelspec": {
   "display_name": "Python 3",
   "language": "python",
   "name": "python3"
  },
  "language_info": {
   "codemirror_mode": {
    "name": "ipython",
    "version": 2
   },
   "file_extension": ".py",
   "mimetype": "text/x-python",
   "name": "python",
   "nbconvert_exporter": "python",
   "pygments_lexer": "ipython2",
   "version": "2.7.6"
  }
 },
 "nbformat": 4,
 "nbformat_minor": 0
}